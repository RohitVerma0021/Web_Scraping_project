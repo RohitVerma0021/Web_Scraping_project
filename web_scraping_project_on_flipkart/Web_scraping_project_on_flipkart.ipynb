{
  "nbformat": 4,
  "nbformat_minor": 0,
  "metadata": {
    "colab": {
      "provenance": []
    },
    "kernelspec": {
      "name": "python3",
      "display_name": "Python 3"
    },
    "language_info": {
      "name": "python"
    }
  },
  "cells": [
    {
      "cell_type": "code",
      "execution_count": 3,
      "metadata": {
        "id": "i5n4RqDDi7uf"
      },
      "outputs": [],
      "source": [
        "#import the important library\n",
        "import pandas as pd\n",
        "from bs4 import BeautifulSoup \n",
        "import requests\n",
        "import numpy as np"
      ]
    },
    {
      "cell_type": "code",
      "source": [
        "#First Create the empty list to append scratch item \n",
        "\n",
        "Product_Name=[]\n",
        "Prices=[]\n",
        "Description=[]\n",
        "Star_rating=[]\n",
        "Rating_Review=[]\n",
        "\n",
        "# create a for loop to sand the 'http:/' requests to the server\n",
        "\n",
        "for j in range(1,70):\n",
        "  url=\"https://www.flipkart.com/mobiles/~mobile-phones-under-rs10000/pr?sid=tyy%2C4io&page={}\".format(j)\n",
        "  headers={'User-Agent':'Mozilla/5.0 (Windows NT 6.3; Win 64 ; x64) Apple WeKit /537.36(KHTML , like Gecko) Chrome/80.0.3987.162 Safari/537.36'}\n",
        "  webpage=requests.get(url,headers=headers).text\n",
        "  #Create the soup \n",
        "\n",
        "  soup=BeautifulSoup(webpage,'lxml')\n",
        "  page=soup.find(\"div\",class_=\"_1YokD2 _3Mn1Gg\")\n",
        "\n",
        "\n",
        " #find the indivisual item in the soup\n",
        "\n",
        "  name=page.find_all(\"div\",class_=\"_4rR01T\")\n",
        "  for i in name:\n",
        "    Product_Name.append(i.text)\n",
        "\n",
        "    \n",
        "  Price=page.find_all(\"div\",class_=\"_30jeq3 _1_WHN1\")\n",
        "  for i in Price:\n",
        "    Prices.append(i.text)\n",
        "    \n",
        "    \n",
        "  des=page.find_all(\"div\",class_=\"fMghEO\")\n",
        "  for i in des:\n",
        "    Description.append(i.text)\n",
        "    \n",
        "  star_rating=page.find_all(\"div\",class_=\"_3LWZlK\")\n",
        "  for i in star_rating:\n",
        "    Star_rating.append(i.text)\n",
        "\n",
        "  rating=page.find_all(\"span\",class_=\"_2_R_DZ\")\n",
        "  for i in rating:\n",
        "    Rating_Review.append(i.text)\n",
        "\n",
        "\n",
        "\n",
        "  \n",
        "#Create the dict with the scratch item list\n",
        "\n",
        "dic={\"Name\":Product_Name,\n",
        "     \"Peices\":Prices,\n",
        "      \"Descriptions\":Description,\n",
        "      \"Star_Rating\":Star_rating,\n",
        "      \"Rating_Review\":Rating_Review}\n",
        "\n",
        "#create the data frame to store the item in the data frame\n",
        "\n",
        "final_data=pd.DataFrame.from_dict(dic,orient=\"index\")\n",
        "final_data=final_data.T\n",
        "\n",
        "#save the data in the excel form \n",
        "\n",
        "final_data.to_excel('Mobiel_data.xlsx',sheet_name=\"data\")"
      ],
      "metadata": {
        "id": "EyQQCQlvwjhn"
      },
      "execution_count": 32,
      "outputs": []
    },
    {
      "cell_type": "code",
      "source": [
        "#check the shape the of the dataframe\n",
        "final_data.shape"
      ],
      "metadata": {
        "colab": {
          "base_uri": "https://localhost:8080/"
        },
        "id": "2G9nHcGRIrdh",
        "outputId": "0214e9d6-f9f5-458a-9ecc-2c9e9b0a1635"
      },
      "execution_count": 33,
      "outputs": [
        {
          "output_type": "execute_result",
          "data": {
            "text/plain": [
              "(984, 5)"
            ]
          },
          "metadata": {},
          "execution_count": 33
        }
      ]
    },
    {
      "cell_type": "code",
      "source": [],
      "metadata": {
        "id": "VPSnju7ZLgTh"
      },
      "execution_count": null,
      "outputs": []
    }
  ]
}